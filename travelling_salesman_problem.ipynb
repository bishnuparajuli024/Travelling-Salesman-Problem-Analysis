{
  "nbformat": 4,
  "nbformat_minor": 0,
  "metadata": {
    "colab": {
      "provenance": [],
      "authorship_tag": "ABX9TyM+I7Z6eHjyZJaJ6KYV2OzX",
      "include_colab_link": true
    },
    "kernelspec": {
      "name": "python3",
      "display_name": "Python 3"
    },
    "language_info": {
      "name": "python"
    }
  },
  "cells": [
    {
      "cell_type": "markdown",
      "metadata": {
        "id": "view-in-github",
        "colab_type": "text"
      },
      "source": [
        "<a href=\"https://colab.research.google.com/github/bishnuparajuli024/Travelling-Salesman-Problem-Analysis/blob/main/travelling_salesman_problem.ipynb\" target=\"_parent\"><img src=\"https://colab.research.google.com/assets/colab-badge.svg\" alt=\"Open In Colab\"/></a>"
      ]
    },
    {
      "cell_type": "code",
      "execution_count": null,
      "metadata": {
        "id": "0V7VN7g9GYAA"
      },
      "outputs": [],
      "source": [
        "from sys import maxsize\n",
        "v=4\n",
        "\n",
        "def travelling_salesman_function(graph,s):\n",
        "    vertex = []\n",
        "    for i in range(v):\n",
        "      if i !=s:\n",
        "        vertex.append(i)\n",
        "\n",
        "      min_path = maxsize\n",
        "      While True:\n",
        "        current_cost = 0\n",
        "\n",
        "graph = [[0,10,15,20],[10,0,35,25],[15,35,0,30],[20,25,30,0]]\n",
        "s= 0\n",
        "travelling_salesman_function(graph,s)\n",
        "\n"
      ]
    }
  ]
}