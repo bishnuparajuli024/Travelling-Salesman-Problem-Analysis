{
  "nbformat": 4,
  "nbformat_minor": 0,
  "metadata": {
    "colab": {
      "provenance": [],
      "authorship_tag": "ABX9TyNAh6Jd98+I7JwBAK6Cl+Wu",
      "include_colab_link": true
    },
    "kernelspec": {
      "name": "python3",
      "display_name": "Python 3"
    },
    "language_info": {
      "name": "python"
    }
  },
  "cells": [
    {
      "cell_type": "markdown",
      "metadata": {
        "id": "view-in-github",
        "colab_type": "text"
      },
      "source": [
        "<a href=\"https://colab.research.google.com/github/bishnuparajuli024/Travelling-Salesman-Problem-Analysis/blob/main/travelling_salesman_problem.ipynb\" target=\"_parent\"><img src=\"https://colab.research.google.com/assets/colab-badge.svg\" alt=\"Open In Colab\"/></a>"
      ]
    },
    {
      "cell_type": "code",
      "execution_count": null,
      "metadata": {
        "id": "0V7VN7g9GYAA"
      },
      "outputs": [],
      "source": [
        "from sys import maxsize\n",
        "v=4\n",
        "\n",
        "def travelling_salesman_function(graph,s):\n",
        "    vertex = []\n",
        "    for i in range(v):\n",
        "      if i !=s:\n",
        "        vertex.append(i)\n",
        "\n",
        "      min_path = maxsize\n",
        "      while True:\n",
        "        current_cost = 0\n",
        "        k = 2\n",
        "        for i in range(len(vertex)):\n",
        "          current_cost += graph[k][vertex[i]]\n",
        "          k = vertex[i]\n",
        "          current_cost += graph[k][s]\n",
        "          min_path = min(min_path,current_cost)\n",
        "\n",
        "          if not next_perm(vertex):\n",
        "            break\n",
        "      return min_path\n",
        "\n",
        "def next_perm(l):\n",
        "  n = len(1)\n",
        "  i = n-2\n",
        "\n",
        "  while i >= 0 and l[i] > l[i+1]:\n",
        "    i -= 1\n",
        "\n",
        "  if i == -1:\n",
        "    return False\n",
        "\n",
        "  j = i+1\n",
        "  while j < n and l[j] > l[i]:\n",
        "    j += 1\n",
        "\n",
        "  j -= 1\n",
        "  l[i], l[j] = l[j],l[i]\n",
        "  left = i+1\n",
        "  right = n-1\n",
        "\n",
        "  while left < right:\n",
        "    l[left],l[right] = l[right],l[left]\n",
        "    lrft += 1\n",
        "    right -= j\n",
        "  return True\n",
        "\n",
        "graph = [[0,10,15,20],[10,0,35,25],[15,35,0,30],[20,25,30,0]]\n",
        "s= 0\n",
        "res = travelling_salesman_function(graph,s)\n",
        "print(res)"
      ]
    },
    {
      "cell_type": "code",
      "source": [],
      "metadata": {
        "id": "uY4ReQ_VJ9Q1"
      },
      "execution_count": null,
      "outputs": []
    }
  ]
}